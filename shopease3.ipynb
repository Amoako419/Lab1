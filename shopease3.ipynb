{
 "cells": [
  {
   "cell_type": "markdown",
   "metadata": {},
   "source": [
    "# Lab Exercise 3: SQL Window Functions"
   ]
  },
  {
   "cell_type": "markdown",
   "metadata": {},
   "source": [
    "### Using RANK() to rank product based on sales"
   ]
  },
  {
   "cell_type": "code",
   "execution_count": null,
   "metadata": {
    "vscode": {
     "languageId": "sql"
    }
   },
   "outputs": [],
   "source": [
    "-- Ranking the products based on the total revenue\n",
    "SELECT RANK() \n",
    "OVER( ORDER BY total_revenue DESC ) AS 'rank',\n",
    " order_id, product_name, Total_revenue FROM sales; "
   ]
  },
  {
   "cell_type": "markdown",
   "metadata": {},
   "source": [
    "## Running Totals for each category"
   ]
  },
  {
   "cell_type": "code",
   "execution_count": null,
   "metadata": {
    "vscode": {
     "languageId": "sql"
    }
   },
   "outputs": [],
   "source": [
    "-- Calculated the running totals\n",
    "SELECT order_id, product_name, category, total_revenue, SUM(total_revenue) \n",
    "OVER (\n",
    "PARTITION BY category ORDER BY product_name) 'running_totals' \n",
    "FROM sales;"
   ]
  },
  {
   "cell_type": "markdown",
   "metadata": {},
   "source": [
    "## Partitioning each order value"
   ]
  },
  {
   "cell_type": "code",
   "execution_count": null,
   "metadata": {
    "vscode": {
     "languageId": "sql"
    }
   },
   "outputs": [],
   "source": [
    "-- Partition each average customer order value\n",
    "SELECT \n",
    "    customer_id,\n",
    "    order_id,\n",
    "    Total_revenue,\n",
    "    AVG(Total_revenue) OVER (PARTITION BY customer_id) as avg_customer_order_value\n",
    "FROM sales;"
   ]
  }
 ],
 "metadata": {
  "language_info": {
   "name": "python"
  }
 },
 "nbformat": 4,
 "nbformat_minor": 2
}
